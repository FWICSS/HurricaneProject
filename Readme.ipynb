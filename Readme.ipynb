{
 "cells": [
  {
   "cell_type": "code",
   "execution_count": 27,
   "metadata": {
    "collapsed": true,
    "ExecuteTime": {
     "end_time": "2023-06-18T15:24:25.492825Z",
     "start_time": "2023-06-18T15:24:24.474202Z"
    }
   },
   "outputs": [],
   "source": [
    "import matplotlib.pyplot as plt\n",
    "import cartopy.crs as ccrs\n",
    "import pandas as pd\n",
    "\n",
    "data = pd.read_csv(\"data/Historical_Hurricane_Tracks.csv\", low_memory=False)\n",
    "data_name = pd.read_csv(\"data/Hurricane_Name.csv\", low_memory=False)\n",
    "data_caribbean = pd.read_csv(\"data/hurricanes_Past_In_Caribbean.csv\", low_memory=False)"
   ]
  },
  {
   "cell_type": "markdown",
   "source": [
    "nombre de données total :"
   ],
   "metadata": {
    "collapsed": false
   }
  },
  {
   "cell_type": "code",
   "execution_count": 28,
   "outputs": [
    {
     "name": "stdout",
     "output_type": "stream",
     "text": [
      "697476\n"
     ]
    }
   ],
   "source": [
    "print(data.shape[0])"
   ],
   "metadata": {
    "collapsed": false,
    "ExecuteTime": {
     "end_time": "2023-06-18T15:24:25.578151Z",
     "start_time": "2023-06-18T15:24:25.575287Z"
    }
   }
  },
  {
   "cell_type": "markdown",
   "source": [
    "nombre de données nommés :"
   ],
   "metadata": {
    "collapsed": false
   }
  },
  {
   "cell_type": "code",
   "execution_count": 29,
   "outputs": [
    {
     "name": "stdout",
     "output_type": "stream",
     "text": [
      "379973\n"
     ]
    }
   ],
   "source": [
    "print(data_name.shape[0])"
   ],
   "metadata": {
    "collapsed": false,
    "ExecuteTime": {
     "end_time": "2023-06-18T15:24:26.564304Z",
     "start_time": "2023-06-18T15:24:26.556689Z"
    }
   }
  },
  {
   "cell_type": "markdown",
   "source": [
    "nombre de données dans la caraïbe nommées :"
   ],
   "metadata": {
    "collapsed": false
   }
  },
  {
   "cell_type": "code",
   "execution_count": 31,
   "outputs": [
    {
     "data": {
      "text/plain": "713230"
     },
     "execution_count": 31,
     "metadata": {},
     "output_type": "execute_result"
    }
   ],
   "source": [
    "data_caribbean.shape[0]"
   ],
   "metadata": {
    "collapsed": false,
    "ExecuteTime": {
     "end_time": "2023-06-18T15:24:37.494115Z",
     "start_time": "2023-06-18T15:24:37.486346Z"
    }
   }
  },
  {
   "cell_type": "code",
   "execution_count": null,
   "outputs": [],
   "source": [],
   "metadata": {
    "collapsed": false
   }
  }
 ],
 "metadata": {
  "kernelspec": {
   "display_name": "Python 3",
   "language": "python",
   "name": "python3"
  },
  "language_info": {
   "codemirror_mode": {
    "name": "ipython",
    "version": 2
   },
   "file_extension": ".py",
   "mimetype": "text/x-python",
   "name": "python",
   "nbconvert_exporter": "python",
   "pygments_lexer": "ipython2",
   "version": "2.7.6"
  }
 },
 "nbformat": 4,
 "nbformat_minor": 0
}
